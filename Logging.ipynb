{
 "cells": [
  {
   "cell_type": "markdown",
   "id": "7fcc3507",
   "metadata": {},
   "source": [
    "### When / How to use debug(), info(), warning(), error() & exception()\n",
    "1. DEBUG: Detailed information, typically of interest only when diagnosing problems. Ideal for outputting information useful for developers to diagnose problems.\n",
    "2. INFO: Confirmation that things are working as expected. For general information about program execution, such as starting or finishing a process.\n",
    "3. WARNING: An indication that something unexpected happened, or indicative of some problem in the near future.  For situations that are not errors but might require special handling.\n",
    "4. ERROR: Due to a more serious problem, the software has not been able to perform some function. For serious problems that have occurred, such as catching an exception that stops a part of the program from running. \n",
    "5. EXCEPTION: Logs an ERROR message with exception information. Specifically for logging exceptions along with their traceback information."
   ]
  },
  {
   "cell_type": "code",
   "execution_count": 1,
   "id": "738a4c6f",
   "metadata": {},
   "outputs": [
    {
     "name": "stderr",
     "output_type": "stream",
     "text": [
      "2024-08-06 16:30:24,475 - __main__ - INFO - Program started\n",
      "2024-08-06 16:30:24,477 - __main__ - DEBUG - example_function called with param: 5\n",
      "2024-08-06 16:30:24,478 - __main__ - INFO - Processing value: 5\n",
      "2024-08-06 16:30:24,479 - __main__ - DEBUG - Result of division: 2.0\n",
      "2024-08-06 16:30:24,480 - __main__ - DEBUG - example_function called with param: 0\n",
      "2024-08-06 16:30:24,481 - __main__ - ERROR - Received zero, which is not allowed.\n",
      "2024-08-06 16:30:24,482 - __main__ - DEBUG - example_function called with param: -1\n",
      "2024-08-06 16:30:24,484 - __main__ - WARNING - Received a negative value: -1\n",
      "2024-08-06 16:30:24,484 - __main__ - DEBUG - Result of division: -10.0\n",
      "2024-08-06 16:30:24,485 - __main__ - INFO - Program finished\n"
     ]
    }
   ],
   "source": [
    "import logging\n",
    "from datetime import datetime\n",
    "\n",
    "# TYPE 1 : To generate log files with filenames provided manually\n",
    "# Configure logging\n",
    "logging.basicConfig(level=logging.DEBUG,\n",
    "                    format='%(asctime)s - %(name)s - %(levelname)s - %(message)s',\n",
    "                    handlers=[\n",
    "                        logging.FileHandler(\"debug.log\"), #Give a name to your log file\n",
    "                        logging.StreamHandler()\n",
    "                    ])\n",
    "\n",
    "# TYPE 2 : To generate log files with filenames that include the current date and time\n",
    "# Get the current date and time\n",
    "current_time = datetime.now().strftime(\"%Y-%m-%d_%H-%M-%S\")\n",
    "# Create a log filename with the current date and time\n",
    "log_filename = f\"debug_{current_time}.log\"\n",
    "# Configure logging\n",
    "logging.basicConfig(level=logging.DEBUG,\n",
    "                    format='%(asctime)s - %(name)s - %(levelname)s - %(message)s',\n",
    "                    handlers=[\n",
    "                        logging.FileHandler(log_filename),\n",
    "                        logging.StreamHandler()\n",
    "                    ])\n",
    "\n",
    "# Create a logger\n",
    "logger = logging.getLogger(__name__)\n",
    "\n",
    "def example_function(param):\n",
    "    logger.debug(f\"example_function called with param: {param}\")\n",
    "    \n",
    "    if param < 0:\n",
    "        logger.warning(f\"Received a negative value: {param}\")\n",
    "    elif param == 0:\n",
    "        logger.error(\"Received zero, which is not allowed.\")\n",
    "        return\n",
    "    else:\n",
    "        logger.info(f\"Processing value: {param}\")\n",
    "\n",
    "    try:\n",
    "        result = 10 / param\n",
    "        logger.debug(f\"Result of division: {result}\")\n",
    "    except Exception as e:\n",
    "        logger.exception(\"Exception occurred during division\")\n",
    "        return\n",
    "\n",
    "    return result\n",
    "\n",
    "if __name__ == \"__main__\":\n",
    "    logger.info(\"Program started\")\n",
    "    \n",
    "    example_function(5)\n",
    "    example_function(0)\n",
    "    example_function(-1)\n",
    "    \n",
    "    logger.info(\"Program finished\")"
   ]
  },
  {
   "cell_type": "code",
   "execution_count": null,
   "id": "19f95ffa",
   "metadata": {},
   "outputs": [],
   "source": []
  }
 ],
 "metadata": {
  "kernelspec": {
   "display_name": "Python 3 (ipykernel)",
   "language": "python",
   "name": "python3"
  },
  "language_info": {
   "codemirror_mode": {
    "name": "ipython",
    "version": 3
   },
   "file_extension": ".py",
   "mimetype": "text/x-python",
   "name": "python",
   "nbconvert_exporter": "python",
   "pygments_lexer": "ipython3",
   "version": "3.11.4"
  }
 },
 "nbformat": 4,
 "nbformat_minor": 5
}
