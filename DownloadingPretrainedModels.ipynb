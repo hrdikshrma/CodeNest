{
 "cells": [
  {
   "cell_type": "code",
   "execution_count": 1,
   "id": "ea775cab",
   "metadata": {
    "scrolled": true
   },
   "outputs": [],
   "source": [
    "# !pip install fair-esm\n",
    "# !pip install torch\n",
    "# !pip install biopython\n",
    "# !pip install tqdm"
   ]
  },
  {
   "cell_type": "markdown",
   "id": "9ea31d0a",
   "metadata": {},
   "source": [
    "### EXAMPLE 1: MSA Transformer model (~500MB in size)"
   ]
  },
  {
   "cell_type": "code",
   "execution_count": 1,
   "id": "cc13e1ea",
   "metadata": {},
   "outputs": [],
   "source": [
    "#Import the necessary libraries and packages\n",
    "from esm import pretrained\n",
    "import torch\n",
    "from Bio import SeqIO\n",
    "import os\n",
    "import pickle\n",
    "\n",
    "# Model and Alphabet you want to download\n",
    "model, alphabet = pretrained.esm_msa1b_t12_100M_UR50S()\n",
    "\n",
    "#Using torch to save the model\n",
    "torch.save(model, \"pretrained_msa_transformer.pt\") # change the file name accordingly \n",
    "\n",
    "#Using pickle to save the alphabet component\n",
    "pickle.dump(alphabet,open(\"pretrained_msa_alphabet.pickle\",\"wb\")) # change the file name accordingly "
   ]
  },
  {
   "cell_type": "markdown",
   "id": "0b9defd1",
   "metadata": {},
   "source": [
    "#### Loading the Model and Alphabet"
   ]
  },
  {
   "cell_type": "code",
   "execution_count": null,
   "id": "623d4a93",
   "metadata": {},
   "outputs": [],
   "source": [
    "model = torch.load(\"pretrained_msa_transformer.pt\")"
   ]
  },
  {
   "cell_type": "code",
   "execution_count": null,
   "id": "18ec0949",
   "metadata": {},
   "outputs": [],
   "source": [
    "model"
   ]
  },
  {
   "cell_type": "code",
   "execution_count": null,
   "id": "52f6877c",
   "metadata": {},
   "outputs": [],
   "source": [
    "alphabet = pickle.load(open(\"pretrained_msa_alphabet.pickle\",\"rb\"))"
   ]
  },
  {
   "cell_type": "code",
   "execution_count": null,
   "id": "55e134e3",
   "metadata": {},
   "outputs": [],
   "source": [
    "alphabet"
   ]
  },
  {
   "cell_type": "markdown",
   "id": "b8cb44f3",
   "metadata": {},
   "source": [
    "### EXAMPLE 2: ESM 2 Transformer model (~11.5GB in size)"
   ]
  },
  {
   "cell_type": "code",
   "execution_count": 1,
   "id": "5b0ca65a",
   "metadata": {},
   "outputs": [
    {
     "data": {
      "application/vnd.jupyter.widget-view+json": {
       "model_id": "6ad6eff7b1634bc19191515871f69d87",
       "version_major": 2,
       "version_minor": 0
      },
      "text/plain": [
       "Loading checkpoint shards:   0%|          | 0/2 [00:00<?, ?it/s]"
      ]
     },
     "metadata": {},
     "output_type": "display_data"
    },
    {
     "name": "stderr",
     "output_type": "stream",
     "text": [
      "Some weights of the model checkpoint at facebook/esm2_t36_3B_UR50D were not used when initializing EsmModel: ['lm_head.dense.bias', 'lm_head.layer_norm.weight', 'lm_head.dense.weight', 'lm_head.layer_norm.bias', 'lm_head.bias', 'lm_head.decoder.weight']\n",
      "- This IS expected if you are initializing EsmModel from the checkpoint of a model trained on another task or with another architecture (e.g. initializing a BertForSequenceClassification model from a BertForPreTraining model).\n",
      "- This IS NOT expected if you are initializing EsmModel from the checkpoint of a model that you expect to be exactly identical (initializing a BertForSequenceClassification model from a BertForSequenceClassification model).\n",
      "Some weights of EsmModel were not initialized from the model checkpoint at facebook/esm2_t36_3B_UR50D and are newly initialized: ['esm.pooler.dense.weight', 'esm.pooler.dense.bias']\n",
      "You should probably TRAIN this model on a down-stream task to be able to use it for predictions and inference.\n"
     ]
    }
   ],
   "source": [
    "#Import the necessary libraries and packages\n",
    "from transformers import AutoTokenizer, AutoModel\n",
    "import torch\n",
    "import pickle\n",
    "\n",
    "\n",
    "# Model and Tokenizer you want to download\n",
    "model_name = \"facebook/esm2_t36_3B_UR50D\"\n",
    "tokenizer = AutoTokenizer.from_pretrained(model_name)\n",
    "model = AutoModel.from_pretrained(model_name, output_attentions=True)\n",
    "\n",
    "#Using torch to save the model\n",
    "torch.save(model, \"facebook_esm2_transformer.pt\") # change the file name accordingly \n",
    "\n",
    "#Using pickle to save the alphabet component\n",
    "pickle.dump(tokenizer, open(\"facebook_esm2_transformer_tokenizer.pickle\", \"wb\")) # change the file name accordingly "
   ]
  },
  {
   "cell_type": "markdown",
   "id": "6e3edf50",
   "metadata": {},
   "source": [
    "#### Loading the Model and Tokenizer"
   ]
  },
  {
   "cell_type": "code",
   "execution_count": null,
   "id": "9cd660ec",
   "metadata": {},
   "outputs": [],
   "source": [
    "model = torch.load(\"facebook_esm2_transformer.pt\")"
   ]
  },
  {
   "cell_type": "code",
   "execution_count": null,
   "id": "ce0f02a8",
   "metadata": {},
   "outputs": [],
   "source": [
    "model"
   ]
  },
  {
   "cell_type": "code",
   "execution_count": null,
   "id": "3634b6f7",
   "metadata": {},
   "outputs": [],
   "source": [
    "tokenizer = pickle.load(open(\"facebook_esm2_transformer_tokenizer.pickle\",\"rb\"))"
   ]
  },
  {
   "cell_type": "code",
   "execution_count": null,
   "id": "fd1390b2",
   "metadata": {},
   "outputs": [],
   "source": [
    "tokenizer "
   ]
  },
  {
   "cell_type": "markdown",
   "id": "c962e12e",
   "metadata": {},
   "source": [
    "### EXAMPLE 2: ESM 2 Transformer model (~11.5GB in size) [another approach]"
   ]
  },
  {
   "cell_type": "code",
   "execution_count": 2,
   "id": "95e25cf1",
   "metadata": {
    "scrolled": true
   },
   "outputs": [
    {
     "data": {
      "application/vnd.jupyter.widget-view+json": {
       "model_id": "b3c50b0a45a3495bbbf3a03c570788fe",
       "version_major": 2,
       "version_minor": 0
      },
      "text/plain": [
       "Loading checkpoint shards:   0%|          | 0/2 [00:00<?, ?it/s]"
      ]
     },
     "metadata": {},
     "output_type": "display_data"
    },
    {
     "name": "stderr",
     "output_type": "stream",
     "text": [
      "Some weights of the model checkpoint at facebook/esm2_t36_3B_UR50D were not used when initializing EsmModel: ['lm_head.dense.weight', 'lm_head.dense.bias', 'lm_head.bias', 'lm_head.layer_norm.weight', 'lm_head.decoder.weight', 'lm_head.layer_norm.bias']\n",
      "- This IS expected if you are initializing EsmModel from the checkpoint of a model trained on another task or with another architecture (e.g. initializing a BertForSequenceClassification model from a BertForPreTraining model).\n",
      "- This IS NOT expected if you are initializing EsmModel from the checkpoint of a model that you expect to be exactly identical (initializing a BertForSequenceClassification model from a BertForSequenceClassification model).\n",
      "Some weights of EsmModel were not initialized from the model checkpoint at facebook/esm2_t36_3B_UR50D and are newly initialized: ['esm.pooler.dense.bias', 'esm.pooler.dense.weight']\n",
      "You should probably TRAIN this model on a down-stream task to be able to use it for predictions and inference.\n"
     ]
    }
   ],
   "source": [
    "#Import the necessary libraries and packages\n",
    "from transformers import AutoTokenizer, AutoModel\n",
    "\n",
    "# Model you want to download\n",
    "model_name = \"facebook/esm2_t36_3B_UR50D\"\n",
    "\n",
    "# Download and save the tokenizer\n",
    "tokenizer = AutoTokenizer.from_pretrained(model_name)\n",
    "tokenizer.save_pretrained('/ESM/Local_ESM2_Model')\n",
    "\n",
    "# Download and save the model\n",
    "model = AutoModel.from_pretrained(model_name, output_attentions=True)\n",
    "model.save_pretrained('/ESM/Local_ESM2_Model')"
   ]
  },
  {
   "cell_type": "markdown",
   "id": "7b69defa",
   "metadata": {},
   "source": [
    "#### Loading the Model and Tokenizer"
   ]
  },
  {
   "cell_type": "code",
   "execution_count": null,
   "id": "822c46d5",
   "metadata": {},
   "outputs": [],
   "source": [
    "# Directory where the tokenizer and model are saved\n",
    "saved_directory = '/ESM/Local_ESM2_Model'\n",
    "\n",
    "# Loading the model from the saved directory\n",
    "model = AutoModel.from_pretrained(saved_directory)"
   ]
  },
  {
   "cell_type": "code",
   "execution_count": null,
   "id": "05381c2e",
   "metadata": {},
   "outputs": [],
   "source": [
    "model"
   ]
  },
  {
   "cell_type": "code",
   "execution_count": null,
   "id": "29ad9108",
   "metadata": {},
   "outputs": [],
   "source": [
    "# Loading the tokenizer from the saved directory\n",
    "tokenizer = AutoTokenizer.from_pretrained(saved_directory)"
   ]
  },
  {
   "cell_type": "code",
   "execution_count": null,
   "id": "81111007",
   "metadata": {},
   "outputs": [],
   "source": [
    "tokenizer "
   ]
  }
 ],
 "metadata": {
  "kernelspec": {
   "display_name": "Python 3 (ipykernel)",
   "language": "python",
   "name": "python3"
  },
  "language_info": {
   "codemirror_mode": {
    "name": "ipython",
    "version": 3
   },
   "file_extension": ".py",
   "mimetype": "text/x-python",
   "name": "python",
   "nbconvert_exporter": "python",
   "pygments_lexer": "ipython3",
   "version": "3.11.4"
  }
 },
 "nbformat": 4,
 "nbformat_minor": 5
}
