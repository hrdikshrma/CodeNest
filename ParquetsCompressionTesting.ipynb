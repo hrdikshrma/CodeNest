{
 "cells": [
  {
   "cell_type": "code",
   "execution_count": 1,
   "id": "aa24c35a",
   "metadata": {},
   "outputs": [],
   "source": [
    "# !pip install polars"
   ]
  },
  {
   "cell_type": "code",
   "execution_count": 2,
   "id": "62e76ddb",
   "metadata": {},
   "outputs": [],
   "source": [
    "#Importing the necessary libraries and packages\n",
    "import numpy as np\n",
    "import polars as pl\n",
    "import time\n",
    "import os\n",
    "import pandas as pd"
   ]
  },
  {
   "cell_type": "code",
   "execution_count": 3,
   "id": "2b1d13dc",
   "metadata": {},
   "outputs": [
    {
     "name": "stdout",
     "output_type": "stream",
     "text": [
      "    Compression  Write_time (s)  Read_time (s)  File_size (MB)\n",
      "0  uncompressed       77.184301      90.538679      112.398664\n",
      "1        snappy       57.882196      73.192459      113.223958\n",
      "2          gzip       61.832672      75.941997      116.195043\n",
      "3        brotli       60.296107     101.921516      113.058907\n",
      "4          zstd       59.537334      80.857499      114.049272\n",
      "5           lz4       56.078053      90.488226      112.893804\n"
     ]
    }
   ],
   "source": [
    "#-------EDIT THIS SECTION FOR YOUR OWN USE----------\n",
    "# Creating a sample multidimensional(3D) numpy array\n",
    "array_3d = np.random.rand(40, 416, 416)\n",
    "\n",
    "# Flattening the array into 2D\n",
    "flattened_array = array_3d.reshape(40, -1)\n",
    "\n",
    "# Creating the DataFrame\n",
    "df = pl.DataFrame(flattened_array) #YOU CAN REPLACE THIS 'df' WITH YOUR DATAFRAME\n",
    "#-----------------------------------------------------\n",
    "\n",
    "# Compression types supported by parquet format\n",
    "# LINK : https://parquet.apache.org/docs/file-format/data-pages/compression/\n",
    "compression_types = [\"uncompressed\", \"snappy\", \"gzip\", \"brotli\", \"zstd\", \"lz4\"]\n",
    "\n",
    "results = []\n",
    "\n",
    "for compression in compression_types:\n",
    "    filename = f\"array_3d_{compression}.parquet\"\n",
    "    \n",
    "    # Measuring the write time\n",
    "    start_time = time.time()\n",
    "    df.write_parquet(filename, compression=compression)\n",
    "    write_time = time.time() - start_time\n",
    "    \n",
    "    # Measuring the file size\n",
    "    file_size = os.path.getsize(filename)\n",
    "    \n",
    "    # Measuring the read time\n",
    "    start_time = time.time()\n",
    "    _ = pl.read_parquet(filename)\n",
    "    read_time = time.time() - start_time\n",
    "    \n",
    "    results.append({\n",
    "        \"Compression\": compression,\n",
    "        \"Write_time (s)\": write_time,\n",
    "        \"Read_time (s)\": read_time,\n",
    "        \"File_size (MB)\": file_size\n",
    "    })\n",
    "\n",
    "# Creating a dataframe of the obtained results\n",
    "df_results = pd.DataFrame(results)\n",
    "df_results[\"File_size (MB)\"] = df_results[\"File_size (MB)\"] / (1024 * 1024)  # Convert bytes to MB\n",
    "\n",
    "# Displaying the results\n",
    "print(df_results)"
   ]
  },
  {
   "cell_type": "code",
   "execution_count": null,
   "id": "b2f54d7e",
   "metadata": {},
   "outputs": [],
   "source": []
  }
 ],
 "metadata": {
  "kernelspec": {
   "display_name": "Python 3 (ipykernel)",
   "language": "python",
   "name": "python3"
  },
  "language_info": {
   "codemirror_mode": {
    "name": "ipython",
    "version": 3
   },
   "file_extension": ".py",
   "mimetype": "text/x-python",
   "name": "python",
   "nbconvert_exporter": "python",
   "pygments_lexer": "ipython3",
   "version": "3.11.4"
  }
 },
 "nbformat": 4,
 "nbformat_minor": 5
}
